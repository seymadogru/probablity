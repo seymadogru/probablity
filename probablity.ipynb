{
 "cells": [
  {
   "cell_type": "markdown",
   "id": "46e10312",
   "metadata": {},
   "source": [
    "A şirketinin sattığı bilgisayarın bazılarının bozuk olduğu tespit edilmiştir. Bilgisyar üreten 3 şirket (A, B ve C) olduğunu varsayımı altında, bu şirketlerin bilgisayar üretim miktarı ve bozuk üretim olasılıkları şu şekildedir:\n",
    "\n",
    "*Toplam Üretim Yüzdesi : * P(A)=0.40 P(B)=0.40 P(C)=0.20\n",
    "\n",
    "Hatalı Üretim Olasılığı : P(D|A)=0.015 P(D|B)=0.020 P(D|C)=0.010\n",
    "\n",
    "Rastgele seçilen bir bozuk bir bilgisayarın B şirketi tarafından üretilme olasılığı nedir?"
   ]
  },
  {
   "cell_type": "code",
   "execution_count": 8,
   "id": "b96130bb",
   "metadata": {},
   "outputs": [
    {
     "data": {
      "text/plain": [
       "0.5"
      ]
     },
     "execution_count": 8,
     "metadata": {},
     "output_type": "execute_result"
    }
   ],
   "source": [
    "import numpy as np\n",
    "import pandas as pd\n",
    "\n",
    "#üretim yüzdeleri\n",
    "ProbablityA = 0.40\n",
    "ProbablityB = 0.40 \n",
    "ProbablityC= 0.20\n",
    "\n",
    "#hatalı üretim yüzdeleri\n",
    "ProbablityDA =0.015\n",
    "ProbablityDB =0.020 \n",
    "ProbablityDC =0.010\n",
    "\n",
    "tum_hatalilar = (ProbablityA*ProbablityDA)  + (ProbablityB*ProbablityDB) + (ProbablityC*ProbablityDC)\n",
    "\n",
    "ProbablityBD = (ProbablityB * ProbablityDB) / tum_hatalilar\n",
    "ProbablityBD \n"
   ]
  },
  {
   "cell_type": "code",
   "execution_count": null,
   "id": "c795980d",
   "metadata": {},
   "outputs": [],
   "source": []
  }
 ],
 "metadata": {
  "kernelspec": {
   "display_name": "Python 3",
   "language": "python",
   "name": "python3"
  },
  "language_info": {
   "codemirror_mode": {
    "name": "ipython",
    "version": 3
   },
   "file_extension": ".py",
   "mimetype": "text/x-python",
   "name": "python",
   "nbconvert_exporter": "python",
   "pygments_lexer": "ipython3",
   "version": "3.8.8"
  }
 },
 "nbformat": 4,
 "nbformat_minor": 5
}
